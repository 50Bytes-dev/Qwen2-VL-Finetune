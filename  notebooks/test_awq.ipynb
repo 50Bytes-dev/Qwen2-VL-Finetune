{
 "cells": [
  {
   "cell_type": "code",
   "execution_count": 1,
   "id": "2edee1e5-21a4-41be-914e-fa8ba287baf1",
   "metadata": {},
   "outputs": [
    {
     "name": "stdout",
     "output_type": "stream",
     "text": [
      "torch                    2.5.1\n",
      "torchao                  0.6.1\n",
      "torchaudio               2.5.1\n",
      "torchvision              0.20.1\n",
      "Note: you may need to restart the kernel to use updated packages.\n"
     ]
    }
   ],
   "source": [
    "%pip list | grep torch"
   ]
  },
  {
   "cell_type": "code",
   "execution_count": 2,
   "id": "338b3f0c-e7b6-44be-bc27-57c1adb7fa96",
   "metadata": {},
   "outputs": [
    {
     "data": {
      "application/vnd.jupyter.widget-view+json": {
       "model_id": "1a0fcd26498a440194c912a0a05ef2e4",
       "version_major": 2,
       "version_minor": 0
      },
      "text/plain": [
       "Loading checkpoint shards:   0%|          | 0/2 [00:00<?, ?it/s]"
      ]
     },
     "metadata": {},
     "output_type": "display_data"
    },
    {
     "name": "stderr",
     "output_type": "stream",
     "text": [
      "Using a slow image processor as `use_fast` is unset and a slow processor was saved with this model. `use_fast=True` will be the default behavior in v4.48, even if the model was saved with a slow processor. This will result in minor differences in outputs. You'll still be able to use a slow processor with `use_fast=False`.\n"
     ]
    }
   ],
   "source": [
    "import torch\n",
    "from transformers import Qwen2_5_VLForConditionalGeneration, AutoTokenizer, AutoProcessor\n",
    "from qwen_vl_utils import process_vision_info\n",
    "    \n",
    "MODEL = \"/root/Qwen2-VL-Finetune/output/qwen_2.5_awq\"\n",
    "\n",
    "# default: Load the model on the available device(s)\n",
    "# model = Qwen2_5_VLForConditionalGeneration.from_pretrained(\n",
    "#     MODEL, torch_dtype=\"auto\", device_map=\"auto\"\n",
    "# )\n",
    "\n",
    "# We recommend enabling flash_attention_2 for better acceleration and memory saving, especially in multi-image and video scenarios.\n",
    "model = Qwen2_5_VLForConditionalGeneration.from_pretrained(\n",
    "    MODEL,\n",
    "    torch_dtype=torch.float16,\n",
    "    attn_implementation=\"flash_attention_2\",\n",
    "    device_map=\"auto\",\n",
    ")\n",
    "\n",
    "# default processer\n",
    "processor = AutoProcessor.from_pretrained(MODEL)\n",
    "\n",
    "# The default range for the number of visual tokens per image in the model is 4-16384.\n",
    "# You can set min_pixels and max_pixels according to your needs, such as a token range of 256-1280, to balance performance and cost.\n",
    "# min_pixels = 256*28*28\n",
    "# max_pixels = 1280*28*28\n",
    "# processor = AutoProcessor.from_pretrained(MODEL, min_pixels=min_pixels, max_pixels=max_pixels)"
   ]
  },
  {
   "cell_type": "code",
   "execution_count": 3,
   "id": "8536bac1-dd7c-4ca1-b9b6-6e1100083f16",
   "metadata": {},
   "outputs": [
    {
     "name": "stdout",
     "output_type": "stream",
     "text": [
      "```json\n",
      "[\n",
      "    {\n",
      "        \"params\": [\n",
      "            {\n",
      "                \"name\": \"наименование\",\n",
      "                \"values\": [\n",
      "                    \"платье\"\n",
      "                ]\n",
      "            },\n",
      "            {\n",
      "                \"name\": \"материал\",\n",
      "                \"values\": [\n",
      "                    \"атлас\",\n",
      "                    \"сетка\"\n",
      "                ]\n",
      "            },\n",
      "            {\n",
      "                \"name\": \"особенности\",\n",
      "                \"values\": [\n",
      "                    \"без выбора цвета\",\n",
      "                    \"распродажа\"\n",
      "                ]\n",
      "            },\n",
      "            {\n",
      "                \"name\": \"пол\",\n",
      "                \"values\": [\n",
      "                    \"женский\"\n",
      "                ]\n",
      "            },\n",
      "            {\n",
      "                \"name\": \"длина изделия\",\n",
      "                \"values\": [\n",
      "                    \"123-125 см\"\n",
      "                ]\n",
      "            },\n",
      "            {\n",
      "                \"name\": \"категория\",\n",
      "                \"values\": [\n",
      "                    \"женская одежда\",\n",
      "                    \"повседневная одежда\",\n",
      "                    \"платья, сарафаны\"\n",
      "                ]\n",
      "            }\n",
      "        ],\n",
      "        \"retail_prices\": [\n",
      "            {\n",
      "                \"value\": 500,\n",
      "                \"options\": [\n",
      "                    \"50-52\",\n",
      "                    \"54-56\",\n",
      "                    \"58-60\"\n",
      "                ]\n",
      "            }\n",
      "        ],\n",
      "        \"wholesale_prices\": []\n",
      "    }\n",
      "]\n",
      "```\n",
      "\n"
     ]
    }
   ],
   "source": [
    "\n",
    "\n",
    "messages = [\n",
    "    {\n",
    "        \"role\": \"user\",\n",
    "        \"content\": [\n",
    "            {\n",
    "                \"type\": \"image\",\n",
    "                \"image\": \"https://sun9-9.userapi.com/s/v1/ig2/OrdG0mXaWsClrqfY7ssI9avprWp_pRNim3jwu7PbXOeBRHXmlMC0tFKE0yoQiuqNv0jNwgDuppeymPT3XGYZQzb-.jpg?quality=95&as=32x43,48x64,72x96,108x144,160x214,240x321,360x481,480x642,540x722,640x856,718x960&from=bu&u=FmjzhCfdQkiZU4L0y8i1M_4VtRbR9dgDabBbQEEbrK0&cs=452x604\",\n",
    "            },\n",
    "            {\n",
    "                \"type\": \"image\",\n",
    "                \"image\": \"https://sun9-34.userapi.com/s/v1/ig2/J3a8Jpk6DY3RWvlfCTiAX9Bn-UzGI1j2QTQShV1zBMatTsdQ50xLH8JgiUYS3H1JxiOs9MkIwOMcT11JjB1YpwNU.jpg?quality=95&as=32x43,48x64,72x96,108x144,160x213,240x320,360x479,480x639,540x719,600x799&from=bu&u=sWW5DeUku7Lr9JjhGDczZyAHWf2FEx0u-7Rlz0tvyew&cs=454x604\",\n",
    "            },\n",
    "            {\n",
    "                \"type\": \"image\",\n",
    "                \"image\": \"https://sun9-68.userapi.com/s/v1/ig2/AQSKdoZ-0folAM0d_ak4__oaUoRAApD1YmW3QKck73OiymRonqBALcMtB8l72TeVI6BeUt6TPnLG8aQy_quRxZUH.jpg?quality=95&as=32x43,48x64,72x96,108x144,160x213,240x320,360x480,480x640,540x720,640x853,720x960,736x981&from=bu&u=nVkrNErVssolqXu30B8uzCjTfwsdo94uK3GC8Fp7Nh8&cs=453x604\",\n",
    "            },\n",
    "            {\n",
    "                \"type\": \"image\",\n",
    "                \"image\": \"https://sun9-9.userapi.com/s/v1/ig2/SZzc-DUhPGVXaXwgUZHy86EdXr3vmMCvLXSiVKXavnXtoKZ-EvWQerJ58A8QG6qF9pWs17tIfGevs3E8wrL748hL.jpg?quality=95&as=32x31,48x47,72x70,108x106,160x156,240x235,360x352,480x469,540x528,640x626,720x704,1080x1056,1280x1251,1440x1408,1600x1564&from=bu&u=kJa9BN3r-UHuva2CZnYbWVussDV-W6oOwPn5BsQWn1I&cs=604x590\",\n",
    "            },\n",
    "            {\n",
    "                \"type\": \"text\", \n",
    "                \"text\": \"\\n## Task\\nExtract all product parameters from the given description and images, and return the data in JSON format. Maintain the original language of the product description in the output.\\n\\n## Product description\\nРаспродажа платья\\n💥️ Ткань Атлас + сетка\\n💥️ Римент в комплекте Длина 123-125си\\n💥️ Размер (50-52)(54-56)(58-60)\\n💥️ Цена 500 рублей\\n💥 Цвет без выбора\"\n",
    "            },\n",
    "        ],\n",
    "    }\n",
    "]\n",
    "\n",
    "# Preparation for inference\n",
    "text = processor.apply_chat_template(\n",
    "    messages, tokenize=False, add_generation_prompt=True\n",
    ")\n",
    "image_inputs, video_inputs = process_vision_info(messages)\n",
    "inputs = processor(\n",
    "    text=[text],\n",
    "    images=image_inputs,\n",
    "    videos=video_inputs,\n",
    "    padding=True,\n",
    "    return_tensors=\"pt\",\n",
    ")\n",
    "inputs = inputs.to(\"cuda\")\n",
    "\n",
    "# Inference: Generation of the output\n",
    "generated_ids = model.generate(**inputs, max_new_tokens=2048)\n",
    "generated_ids_trimmed = [\n",
    "    out_ids[len(in_ids) :] for in_ids, out_ids in zip(inputs.input_ids, generated_ids)\n",
    "]\n",
    "output_text = processor.batch_decode(\n",
    "    generated_ids_trimmed, skip_special_tokens=True, clean_up_tokenization_spaces=False\n",
    ")\n",
    "print(output_text[0])"
   ]
  },
  {
   "cell_type": "code",
   "execution_count": null,
   "id": "93e57e76-58f4-47d2-a6b1-0c565bb21a29",
   "metadata": {},
   "outputs": [],
   "source": []
  }
 ],
 "metadata": {
  "kernelspec": {
   "display_name": "qwen2-new-kernel",
   "language": "python",
   "name": "qwen2-new-kernel"
  },
  "language_info": {
   "codemirror_mode": {
    "name": "ipython",
    "version": 3
   },
   "file_extension": ".py",
   "mimetype": "text/x-python",
   "name": "python",
   "nbconvert_exporter": "python",
   "pygments_lexer": "ipython3",
   "version": "3.10.14"
  }
 },
 "nbformat": 4,
 "nbformat_minor": 5
}
